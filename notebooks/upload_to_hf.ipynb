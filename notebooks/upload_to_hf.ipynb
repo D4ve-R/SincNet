{
 "cells": [
  {
   "cell_type": "code",
   "execution_count": null,
   "metadata": {},
   "outputs": [],
   "source": [
    "!pip install transformers"
   ]
  },
  {
   "cell_type": "code",
   "execution_count": null,
   "metadata": {},
   "outputs": [],
   "source": [
    "from transformers import PretrainedConfig\n",
    "\n",
    "class SincNetConfig(PretrainedConfig):\n",
    "    model_type = \"sincnet\"\n",
    "    \n",
    "    def __init__(\n",
    "        self,\n",
    "        stride: int = 10,\n",
    "        num_sinc_filters: int = 80,\n",
    "        sinc_filter_length: int = 251,\n",
    "        num_conv_filters: int = 60,\n",
    "        conv_filter_length: int = 5,\n",
    "        pool_kernel_size: int = 3,\n",
    "        pool_stride: int = 3,\n",
    "        sample_rate: int = 16000,\n",
    "        sinc_filter_stride: int = 10,\n",
    "        sinc_filter_padding: int = 0,\n",
    "        sinc_filter_dilation: int = 1,\n",
    "        min_low_hz: int = 50,\n",
    "        min_band_hz: int = 50,\n",
    "        sinc_filter_in_channels: int = 1,\n",
    "        num_wavform_channels: int = 1,\n",
    "        **kwargs\n",
    "    ):\n",
    "        self.sample_rate = sample_rate\n",
    "        self.stride = stride\n",
    "        self.num_sinc_filters = num_sinc_filters\n",
    "        self.sinc_filter_length = sinc_filter_length\n",
    "        self.num_conv_filters = num_conv_filters\n",
    "        self.conv_filter_length = conv_filter_length\n",
    "        self.pool_kernel_size = pool_kernel_size\n",
    "        self.pool_stride = pool_stride\n",
    "        self.sinc_filter_stride = sinc_filter_stride\n",
    "        self.sinc_filter_padding = sinc_filter_padding\n",
    "        self.sinc_filter_dilation = sinc_filter_dilation\n",
    "        self.min_low_hz = min_low_hz\n",
    "        self.min_band_hz = min_band_hz\n",
    "        self.sinc_filter_in_channels = sinc_filter_in_channels\n",
    "        self.num_wavform_channels = num_wavform_channels\n",
    "        super().__init__(**kwargs)   "
   ]
  },
  {
   "cell_type": "code",
   "execution_count": null,
   "metadata": {},
   "outputs": [],
   "source": [
    "from transformers import PreTrainedModel\n",
    "from src.models.sincnet import SincNet\n",
    "\n",
    "class SincNetModel(PreTrainedModel):\n",
    "    config_class = SincNetConfig\n",
    "    base_model_prefix = \"sincnet\"\n",
    "\n",
    "    def __init__(self, config: SincNetConfig):\n",
    "        super().__init__(config)\n",
    "\n",
    "        self.model = SincNet(\n",
    "            stride=config.stride,\n",
    "            num_sinc_filters=config.num_sinc_filters,\n",
    "            sinc_filter_length=config.sinc_filter_length,\n",
    "            num_conv_filters=config.num_conv_filters,\n",
    "            conv_filter_length=config.conv_filter_length,\n",
    "            pool_kernel_size=config.pool_kernel_size,\n",
    "            pool_stride=config.pool_stride,\n",
    "            sample_rate=config.sample_rate,\n",
    "        )\n",
    "    \n",
    "    def forward(self, waveforms):\n",
    "        return self.model(waveforms)\n"
   ]
  },
  {
   "cell_type": "code",
   "execution_count": null,
   "metadata": {},
   "outputs": [],
   "source": [
    "from transformers import AutoConfig, AutoModel\n",
    "AutoConfig.register('sincnet', SincNetConfig)\n",
    "AutoModel.register(SincNetConfig, SincNetModel)"
   ]
  },
  {
   "cell_type": "code",
   "execution_count": null,
   "metadata": {},
   "outputs": [],
   "source": [
    "import torch\n",
    "sincnet = SincNetModel(SincNetConfig())\n",
    "sincnet.model.load_state_dict(torch.load('../models/sincnet.pth'))"
   ]
  },
  {
   "cell_type": "code",
   "execution_count": null,
   "metadata": {},
   "outputs": [],
   "source": [
    "from huggingface_hub import notebook_login\n",
    "\n",
    "notebook_login()\n",
    "sincnet.push_to_hub(\"sincnet\")"
   ]
  }
 ],
 "metadata": {
  "language_info": {
   "name": "python"
  }
 },
 "nbformat": 4,
 "nbformat_minor": 2
}
